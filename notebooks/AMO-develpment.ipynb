{
 "cells": [
  {
   "cell_type": "code",
   "execution_count": 3,
   "id": "d9306d51-8481-452a-bbb0-3f0c9cf6ec3e",
   "metadata": {},
   "outputs": [
    {
     "ename": "ModuleNotFoundError",
     "evalue": "No module named 'climate_index_collection'",
     "output_type": "error",
     "traceback": [
      "\u001b[0;31m---------------------------------------------------------------------------\u001b[0m",
      "\u001b[0;31mModuleNotFoundError\u001b[0m                       Traceback (most recent call last)",
      "Input \u001b[0;32mIn [3]\u001b[0m, in \u001b[0;36m<cell line: 5>\u001b[0;34m()\u001b[0m\n\u001b[1;32m      3\u001b[0m \u001b[38;5;28;01mimport\u001b[39;00m \u001b[38;5;21;01mscipy\u001b[39;00m \u001b[38;5;28;01mas\u001b[39;00m \u001b[38;5;21;01msp\u001b[39;00m\n\u001b[1;32m      4\u001b[0m \u001b[38;5;28;01mimport\u001b[39;00m \u001b[38;5;21;01mxarray\u001b[39;00m \u001b[38;5;28;01mas\u001b[39;00m \u001b[38;5;21;01mxr\u001b[39;00m\n\u001b[0;32m----> 5\u001b[0m \u001b[38;5;28;01mfrom\u001b[39;00m \u001b[38;5;21;01mclimate_index_collection\u001b[39;00m\u001b[38;5;21;01m.\u001b[39;00m\u001b[38;5;21;01mdata_loading\u001b[39;00m \u001b[38;5;28;01mimport\u001b[39;00m (\n\u001b[1;32m      6\u001b[0m     find_data_files,\n\u001b[1;32m      7\u001b[0m     load_data_set,\n\u001b[1;32m      8\u001b[0m )\n\u001b[1;32m      9\u001b[0m \u001b[38;5;28;01mfrom\u001b[39;00m \u001b[38;5;21;01mclimate_index_collection\u001b[39;00m\u001b[38;5;21;01m.\u001b[39;00m\u001b[38;5;21;01mindices\u001b[39;00m \u001b[38;5;28;01mimport\u001b[39;00m (\n\u001b[1;32m     10\u001b[0m     atlantic_multidecadal_oscillation,\n\u001b[1;32m     11\u001b[0m )\n\u001b[1;32m     12\u001b[0m \u001b[38;5;28;01mfrom\u001b[39;00m \u001b[38;5;21;01mclimate_index_collection\u001b[39;00m\u001b[38;5;21;01m.\u001b[39;00m\u001b[38;5;21;01mdata_loading\u001b[39;00m \u001b[38;5;28;01mimport\u001b[39;00m load_and_preprocess_single_data_file\n",
      "\u001b[0;31mModuleNotFoundError\u001b[0m: No module named 'climate_index_collection'"
     ]
    }
   ],
   "source": [
    "import matplotlib.pyplot as plt\n",
    "import numpy as np\n",
    "import scipy as sp\n",
    "import xarray as xr\n",
    "from climate_index_collection.data_loading import (\n",
    "    find_data_files,\n",
    "    load_data_set,\n",
    ")\n",
    "from climate_index_collection.indices import (\n",
    "    atlantic_multidecadal_oscillation,\n",
    ")\n",
    "from climate_index_collection.data_loading import load_and_preprocess_single_data_file"
   ]
  },
  {
   "cell_type": "code",
   "execution_count": 4,
   "id": "1588273e-9ab0-4b1a-98f9-8619d51ab487",
   "metadata": {},
   "outputs": [
    {
     "ename": "NameError",
     "evalue": "name 'load_data_set' is not defined",
     "output_type": "error",
     "traceback": [
      "\u001b[0;31m---------------------------------------------------------------------------\u001b[0m",
      "\u001b[0;31mNameError\u001b[0m                                 Traceback (most recent call last)",
      "Input \u001b[0;32mIn [4]\u001b[0m, in \u001b[0;36m<cell line: 1>\u001b[0;34m()\u001b[0m\n\u001b[0;32m----> 1\u001b[0m FOCI_alldata \u001b[38;5;241m=\u001b[39m \u001b[43mload_data_set\u001b[49m(data_path\u001b[38;5;241m=\u001b[39m\u001b[38;5;124m\"\u001b[39m\u001b[38;5;124m../data/test_data/\u001b[39m\u001b[38;5;124m\"\u001b[39m, data_source_name\u001b[38;5;241m=\u001b[39m\u001b[38;5;124m\"\u001b[39m\u001b[38;5;124mFOCI\u001b[39m\u001b[38;5;124m\"\u001b[39m)\n\u001b[1;32m      2\u001b[0m CESM_alldata \u001b[38;5;241m=\u001b[39m load_data_set(data_path\u001b[38;5;241m=\u001b[39m\u001b[38;5;124m\"\u001b[39m\u001b[38;5;124m../data/test_data/\u001b[39m\u001b[38;5;124m\"\u001b[39m, data_source_name\u001b[38;5;241m=\u001b[39m\u001b[38;5;124m\"\u001b[39m\u001b[38;5;124mCESM\u001b[39m\u001b[38;5;124m\"\u001b[39m)\n",
      "\u001b[0;31mNameError\u001b[0m: name 'load_data_set' is not defined"
     ]
    }
   ],
   "source": [
    "FOCI_alldata = load_data_set(data_path=\"../data/test_data/\", data_source_name=\"FOCI\")\n",
    "CESM_alldata = load_data_set(data_path=\"../data/test_data/\", data_source_name=\"CESM\")"
   ]
  },
  {
   "cell_type": "code",
   "execution_count": 2,
   "id": "d83a6cd0-c2a5-44bc-9397-c6791bdfe791",
   "metadata": {},
   "outputs": [
    {
     "ename": "NameError",
     "evalue": "name 'atlantic_multidecadal_oscillation' is not defined",
     "output_type": "error",
     "traceback": [
      "\u001b[0;31m---------------------------------------------------------------------------\u001b[0m",
      "\u001b[0;31mNameError\u001b[0m                                 Traceback (most recent call last)",
      "Input \u001b[0;32mIn [2]\u001b[0m, in \u001b[0;36m<cell line: 1>\u001b[0;34m()\u001b[0m\n\u001b[0;32m----> 1\u001b[0m \u001b[43matlantic_multidecadal_oscillation\u001b[49m(FOCI_alldata)\n",
      "\u001b[0;31mNameError\u001b[0m: name 'atlantic_multidecadal_oscillation' is not defined"
     ]
    }
   ],
   "source": [
    "atlantic_multidecadal_oscillation(FOCI_alldata)"
   ]
  },
  {
   "cell_type": "code",
   "execution_count": null,
   "id": "9502d7c5-7cd9-4ba2-8636-8b601156e33a",
   "metadata": {},
   "outputs": [],
   "source": []
  }
 ],
 "metadata": {
  "kernelspec": {
   "display_name": "Python 3 (ipykernel)",
   "language": "python",
   "name": "python3"
  },
  "language_info": {
   "codemirror_mode": {
    "name": "ipython",
    "version": 3
   },
   "file_extension": ".py",
   "mimetype": "text/x-python",
   "name": "python",
   "nbconvert_exporter": "python",
   "pygments_lexer": "ipython3",
   "version": "3.9.12"
  }
 },
 "nbformat": 4,
 "nbformat_minor": 5
}
