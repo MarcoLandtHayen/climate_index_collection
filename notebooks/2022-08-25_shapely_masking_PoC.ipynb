{
 "cells": [
  {
   "cell_type": "markdown",
   "id": "9725723c-1b07-401b-b0e2-1337c82a9221",
   "metadata": {},
   "source": [
    "# Shapely masking Proof of Concept\n",
    "\n",
    "Problem (As always...): We don't have a clear way of dealing with the cyclic point in longitude. If I recall correctly, even the natural earth shapefiles just use groups of polygons for features that cross the dateline and represent everything.\n",
    "\n",
    "The code below doesn't solve this yet."
   ]
  },
  {
   "cell_type": "code",
   "execution_count": 1,
   "id": "e0c0507a-fdbd-4044-9778-94479f5fd3ab",
   "metadata": {},
   "outputs": [
    {
     "name": "stderr",
     "output_type": "stream",
     "text": [
      "ERROR 1: PROJ: proj_create_from_database: Open of /srv/conda/envs/notebook/share/proj failed\n"
     ]
    }
   ],
   "source": [
    "from climate_index_collection.data_loading import load_data_set\n",
    "from climate_index_collection.reductions import spatial_mask\n",
    "\n",
    "from matplotlib import pyplot as plt\n",
    "\n",
    "from shapely.geometry import Polygon, Point, LineString\n",
    "from shapely.ops import split, unary_union\n",
    "from shapely.affinity import translate\n",
    "\n",
    "import numpy as np\n",
    "import xarray as xr\n",
    "\n",
    "import geopandas as gpd"
   ]
  },
  {
   "cell_type": "code",
   "execution_count": 2,
   "id": "4fba7cf6-d65d-4f95-ad21-a39222407e3a",
   "metadata": {},
   "outputs": [
    {
     "name": "stderr",
     "output_type": "stream",
     "text": [
      "/srv/conda/envs/notebook/lib/python3.9/site-packages/xarray/coding/times.py:673: SerializationWarning: Unable to decode time axis into full numpy.datetime64 objects, continuing using cftime.datetime objects instead, reason: dates out of range\n",
      "  dtype = _decode_cf_datetime_dtype(data, units, calendar, self.use_cftime)\n",
      "/srv/conda/envs/notebook/lib/python3.9/site-packages/xarray/core/indexing.py:423: SerializationWarning: Unable to decode time axis into full numpy.datetime64 objects, continuing using cftime.datetime objects instead, reason: dates out of range\n",
      "  return np.asarray(array[self.key], dtype=None)\n"
     ]
    }
   ],
   "source": [
    "ds_FOCI = load_data_set(data_path=\"../data/test_data/\", data_source_name=\"FOCI\")\n",
    "sst_mean = ds_FOCI[\"sea-surface-temperature\"].mean(\"time\")"
   ]
  },
  {
   "cell_type": "code",
   "execution_count": 3,
   "id": "5901d390-6d4f-4535-9086-c8477eabfbcf",
   "metadata": {},
   "outputs": [],
   "source": [
    "NASS_box_lon_lat = Polygon(\n",
    "    [(-50, 25), (-15, 25), (-15, 50), (-40, 50), (-40, (25+50)//2), (-50, (25+50)//2)]\n",
    ")"
   ]
  },
  {
   "cell_type": "code",
   "execution_count": 4,
   "id": "2058f689-1c6b-4677-9202-aebc1d05ae1f",
   "metadata": {},
   "outputs": [],
   "source": [
    "lon_2d, lat_2d = xr.broadcast(ds_FOCI.coords[\"lon\"], ds_FOCI.coords[\"lat\"])\n",
    "lon_2d = lon_2d % 360 - 360 * ((lon_2d % 360) > 180)"
   ]
  },
  {
   "cell_type": "code",
   "execution_count": 5,
   "id": "d2f407e9-3fe5-438e-a2c7-1908982f3ebb",
   "metadata": {},
   "outputs": [],
   "source": [
    "mask = xr.DataArray(\n",
    "    np.reshape(\n",
    "        [\n",
    "            NASS_box_lon_lat.contains(Point(_lon, _lat))\n",
    "            for _lon, _lat in zip(np.ravel(lon_2d), np.ravel(lat_2d))\n",
    "        ],\n",
    "        lon_2d.shape,\n",
    "    ),\n",
    "    dims=lon_2d.dims,\n",
    "    coords=lon_2d.coords,\n",
    ")"
   ]
  },
  {
   "cell_type": "code",
   "execution_count": 6,
   "id": "8283dae8-ee84-4534-99bb-f79584aa3981",
   "metadata": {},
   "outputs": [
    {
     "data": {
      "text/html": [
       "<div><svg style=\"position: absolute; width: 0; height: 0; overflow: hidden\">\n",
       "<defs>\n",
       "<symbol id=\"icon-database\" viewBox=\"0 0 32 32\">\n",
       "<path d=\"M16 0c-8.837 0-16 2.239-16 5v4c0 2.761 7.163 5 16 5s16-2.239 16-5v-4c0-2.761-7.163-5-16-5z\"></path>\n",
       "<path d=\"M16 17c-8.837 0-16-2.239-16-5v6c0 2.761 7.163 5 16 5s16-2.239 16-5v-6c0 2.761-7.163 5-16 5z\"></path>\n",
       "<path d=\"M16 26c-8.837 0-16-2.239-16-5v6c0 2.761 7.163 5 16 5s16-2.239 16-5v-6c0 2.761-7.163 5-16 5z\"></path>\n",
       "</symbol>\n",
       "<symbol id=\"icon-file-text2\" viewBox=\"0 0 32 32\">\n",
       "<path d=\"M28.681 7.159c-0.694-0.947-1.662-2.053-2.724-3.116s-2.169-2.030-3.116-2.724c-1.612-1.182-2.393-1.319-2.841-1.319h-15.5c-1.378 0-2.5 1.121-2.5 2.5v27c0 1.378 1.122 2.5 2.5 2.5h23c1.378 0 2.5-1.122 2.5-2.5v-19.5c0-0.448-0.137-1.23-1.319-2.841zM24.543 5.457c0.959 0.959 1.712 1.825 2.268 2.543h-4.811v-4.811c0.718 0.556 1.584 1.309 2.543 2.268zM28 29.5c0 0.271-0.229 0.5-0.5 0.5h-23c-0.271 0-0.5-0.229-0.5-0.5v-27c0-0.271 0.229-0.5 0.5-0.5 0 0 15.499-0 15.5 0v7c0 0.552 0.448 1 1 1h7v19.5z\"></path>\n",
       "<path d=\"M23 26h-14c-0.552 0-1-0.448-1-1s0.448-1 1-1h14c0.552 0 1 0.448 1 1s-0.448 1-1 1z\"></path>\n",
       "<path d=\"M23 22h-14c-0.552 0-1-0.448-1-1s0.448-1 1-1h14c0.552 0 1 0.448 1 1s-0.448 1-1 1z\"></path>\n",
       "<path d=\"M23 18h-14c-0.552 0-1-0.448-1-1s0.448-1 1-1h14c0.552 0 1 0.448 1 1s-0.448 1-1 1z\"></path>\n",
       "</symbol>\n",
       "</defs>\n",
       "</svg>\n",
       "<style>/* CSS stylesheet for displaying xarray objects in jupyterlab.\n",
       " *\n",
       " */\n",
       "\n",
       ":root {\n",
       "  --xr-font-color0: var(--jp-content-font-color0, rgba(0, 0, 0, 1));\n",
       "  --xr-font-color2: var(--jp-content-font-color2, rgba(0, 0, 0, 0.54));\n",
       "  --xr-font-color3: var(--jp-content-font-color3, rgba(0, 0, 0, 0.38));\n",
       "  --xr-border-color: var(--jp-border-color2, #e0e0e0);\n",
       "  --xr-disabled-color: var(--jp-layout-color3, #bdbdbd);\n",
       "  --xr-background-color: var(--jp-layout-color0, white);\n",
       "  --xr-background-color-row-even: var(--jp-layout-color1, white);\n",
       "  --xr-background-color-row-odd: var(--jp-layout-color2, #eeeeee);\n",
       "}\n",
       "\n",
       "html[theme=dark],\n",
       "body.vscode-dark {\n",
       "  --xr-font-color0: rgba(255, 255, 255, 1);\n",
       "  --xr-font-color2: rgba(255, 255, 255, 0.54);\n",
       "  --xr-font-color3: rgba(255, 255, 255, 0.38);\n",
       "  --xr-border-color: #1F1F1F;\n",
       "  --xr-disabled-color: #515151;\n",
       "  --xr-background-color: #111111;\n",
       "  --xr-background-color-row-even: #111111;\n",
       "  --xr-background-color-row-odd: #313131;\n",
       "}\n",
       "\n",
       ".xr-wrap {\n",
       "  display: block !important;\n",
       "  min-width: 300px;\n",
       "  max-width: 700px;\n",
       "}\n",
       "\n",
       ".xr-text-repr-fallback {\n",
       "  /* fallback to plain text repr when CSS is not injected (untrusted notebook) */\n",
       "  display: none;\n",
       "}\n",
       "\n",
       ".xr-header {\n",
       "  padding-top: 6px;\n",
       "  padding-bottom: 6px;\n",
       "  margin-bottom: 4px;\n",
       "  border-bottom: solid 1px var(--xr-border-color);\n",
       "}\n",
       "\n",
       ".xr-header > div,\n",
       ".xr-header > ul {\n",
       "  display: inline;\n",
       "  margin-top: 0;\n",
       "  margin-bottom: 0;\n",
       "}\n",
       "\n",
       ".xr-obj-type,\n",
       ".xr-array-name {\n",
       "  margin-left: 2px;\n",
       "  margin-right: 10px;\n",
       "}\n",
       "\n",
       ".xr-obj-type {\n",
       "  color: var(--xr-font-color2);\n",
       "}\n",
       "\n",
       ".xr-sections {\n",
       "  padding-left: 0 !important;\n",
       "  display: grid;\n",
       "  grid-template-columns: 150px auto auto 1fr 20px 20px;\n",
       "}\n",
       "\n",
       ".xr-section-item {\n",
       "  display: contents;\n",
       "}\n",
       "\n",
       ".xr-section-item input {\n",
       "  display: none;\n",
       "}\n",
       "\n",
       ".xr-section-item input + label {\n",
       "  color: var(--xr-disabled-color);\n",
       "}\n",
       "\n",
       ".xr-section-item input:enabled + label {\n",
       "  cursor: pointer;\n",
       "  color: var(--xr-font-color2);\n",
       "}\n",
       "\n",
       ".xr-section-item input:enabled + label:hover {\n",
       "  color: var(--xr-font-color0);\n",
       "}\n",
       "\n",
       ".xr-section-summary {\n",
       "  grid-column: 1;\n",
       "  color: var(--xr-font-color2);\n",
       "  font-weight: 500;\n",
       "}\n",
       "\n",
       ".xr-section-summary > span {\n",
       "  display: inline-block;\n",
       "  padding-left: 0.5em;\n",
       "}\n",
       "\n",
       ".xr-section-summary-in:disabled + label {\n",
       "  color: var(--xr-font-color2);\n",
       "}\n",
       "\n",
       ".xr-section-summary-in + label:before {\n",
       "  display: inline-block;\n",
       "  content: '►';\n",
       "  font-size: 11px;\n",
       "  width: 15px;\n",
       "  text-align: center;\n",
       "}\n",
       "\n",
       ".xr-section-summary-in:disabled + label:before {\n",
       "  color: var(--xr-disabled-color);\n",
       "}\n",
       "\n",
       ".xr-section-summary-in:checked + label:before {\n",
       "  content: '▼';\n",
       "}\n",
       "\n",
       ".xr-section-summary-in:checked + label > span {\n",
       "  display: none;\n",
       "}\n",
       "\n",
       ".xr-section-summary,\n",
       ".xr-section-inline-details {\n",
       "  padding-top: 4px;\n",
       "  padding-bottom: 4px;\n",
       "}\n",
       "\n",
       ".xr-section-inline-details {\n",
       "  grid-column: 2 / -1;\n",
       "}\n",
       "\n",
       ".xr-section-details {\n",
       "  display: none;\n",
       "  grid-column: 1 / -1;\n",
       "  margin-bottom: 5px;\n",
       "}\n",
       "\n",
       ".xr-section-summary-in:checked ~ .xr-section-details {\n",
       "  display: contents;\n",
       "}\n",
       "\n",
       ".xr-array-wrap {\n",
       "  grid-column: 1 / -1;\n",
       "  display: grid;\n",
       "  grid-template-columns: 20px auto;\n",
       "}\n",
       "\n",
       ".xr-array-wrap > label {\n",
       "  grid-column: 1;\n",
       "  vertical-align: top;\n",
       "}\n",
       "\n",
       ".xr-preview {\n",
       "  color: var(--xr-font-color3);\n",
       "}\n",
       "\n",
       ".xr-array-preview,\n",
       ".xr-array-data {\n",
       "  padding: 0 5px !important;\n",
       "  grid-column: 2;\n",
       "}\n",
       "\n",
       ".xr-array-data,\n",
       ".xr-array-in:checked ~ .xr-array-preview {\n",
       "  display: none;\n",
       "}\n",
       "\n",
       ".xr-array-in:checked ~ .xr-array-data,\n",
       ".xr-array-preview {\n",
       "  display: inline-block;\n",
       "}\n",
       "\n",
       ".xr-dim-list {\n",
       "  display: inline-block !important;\n",
       "  list-style: none;\n",
       "  padding: 0 !important;\n",
       "  margin: 0;\n",
       "}\n",
       "\n",
       ".xr-dim-list li {\n",
       "  display: inline-block;\n",
       "  padding: 0;\n",
       "  margin: 0;\n",
       "}\n",
       "\n",
       ".xr-dim-list:before {\n",
       "  content: '(';\n",
       "}\n",
       "\n",
       ".xr-dim-list:after {\n",
       "  content: ')';\n",
       "}\n",
       "\n",
       ".xr-dim-list li:not(:last-child):after {\n",
       "  content: ',';\n",
       "  padding-right: 5px;\n",
       "}\n",
       "\n",
       ".xr-has-index {\n",
       "  font-weight: bold;\n",
       "}\n",
       "\n",
       ".xr-var-list,\n",
       ".xr-var-item {\n",
       "  display: contents;\n",
       "}\n",
       "\n",
       ".xr-var-item > div,\n",
       ".xr-var-item label,\n",
       ".xr-var-item > .xr-var-name span {\n",
       "  background-color: var(--xr-background-color-row-even);\n",
       "  margin-bottom: 0;\n",
       "}\n",
       "\n",
       ".xr-var-item > .xr-var-name:hover span {\n",
       "  padding-right: 5px;\n",
       "}\n",
       "\n",
       ".xr-var-list > li:nth-child(odd) > div,\n",
       ".xr-var-list > li:nth-child(odd) > label,\n",
       ".xr-var-list > li:nth-child(odd) > .xr-var-name span {\n",
       "  background-color: var(--xr-background-color-row-odd);\n",
       "}\n",
       "\n",
       ".xr-var-name {\n",
       "  grid-column: 1;\n",
       "}\n",
       "\n",
       ".xr-var-dims {\n",
       "  grid-column: 2;\n",
       "}\n",
       "\n",
       ".xr-var-dtype {\n",
       "  grid-column: 3;\n",
       "  text-align: right;\n",
       "  color: var(--xr-font-color2);\n",
       "}\n",
       "\n",
       ".xr-var-preview {\n",
       "  grid-column: 4;\n",
       "}\n",
       "\n",
       ".xr-var-name,\n",
       ".xr-var-dims,\n",
       ".xr-var-dtype,\n",
       ".xr-preview,\n",
       ".xr-attrs dt {\n",
       "  white-space: nowrap;\n",
       "  overflow: hidden;\n",
       "  text-overflow: ellipsis;\n",
       "  padding-right: 10px;\n",
       "}\n",
       "\n",
       ".xr-var-name:hover,\n",
       ".xr-var-dims:hover,\n",
       ".xr-var-dtype:hover,\n",
       ".xr-attrs dt:hover {\n",
       "  overflow: visible;\n",
       "  width: auto;\n",
       "  z-index: 1;\n",
       "}\n",
       "\n",
       ".xr-var-attrs,\n",
       ".xr-var-data {\n",
       "  display: none;\n",
       "  background-color: var(--xr-background-color) !important;\n",
       "  padding-bottom: 5px !important;\n",
       "}\n",
       "\n",
       ".xr-var-attrs-in:checked ~ .xr-var-attrs,\n",
       ".xr-var-data-in:checked ~ .xr-var-data {\n",
       "  display: block;\n",
       "}\n",
       "\n",
       ".xr-var-data > table {\n",
       "  float: right;\n",
       "}\n",
       "\n",
       ".xr-var-name span,\n",
       ".xr-var-data,\n",
       ".xr-attrs {\n",
       "  padding-left: 25px !important;\n",
       "}\n",
       "\n",
       ".xr-attrs,\n",
       ".xr-var-attrs,\n",
       ".xr-var-data {\n",
       "  grid-column: 1 / -1;\n",
       "}\n",
       "\n",
       "dl.xr-attrs {\n",
       "  padding: 0;\n",
       "  margin: 0;\n",
       "  display: grid;\n",
       "  grid-template-columns: 125px auto;\n",
       "}\n",
       "\n",
       ".xr-attrs dt,\n",
       ".xr-attrs dd {\n",
       "  padding: 0;\n",
       "  margin: 0;\n",
       "  float: left;\n",
       "  padding-right: 10px;\n",
       "  width: auto;\n",
       "}\n",
       "\n",
       ".xr-attrs dt {\n",
       "  font-weight: normal;\n",
       "  grid-column: 1;\n",
       "}\n",
       "\n",
       ".xr-attrs dt:hover span {\n",
       "  display: inline-block;\n",
       "  background: var(--xr-background-color);\n",
       "  padding-right: 10px;\n",
       "}\n",
       "\n",
       ".xr-attrs dd {\n",
       "  grid-column: 2;\n",
       "  white-space: pre-wrap;\n",
       "  word-break: break-all;\n",
       "}\n",
       "\n",
       ".xr-icon-database,\n",
       ".xr-icon-file-text2 {\n",
       "  display: inline-block;\n",
       "  vertical-align: middle;\n",
       "  width: 1em;\n",
       "  height: 1.5em !important;\n",
       "  stroke-width: 0;\n",
       "  stroke: currentColor;\n",
       "  fill: currentColor;\n",
       "}\n",
       "</style><pre class='xr-text-repr-fallback'>&lt;xarray.DataArray ()&gt;\n",
       "array(217)\n",
       "Coordinates:\n",
       "    plev     float64 5e+04</pre><div class='xr-wrap' style='display:none'><div class='xr-header'><div class='xr-obj-type'>xarray.DataArray</div><div class='xr-array-name'></div></div><ul class='xr-sections'><li class='xr-section-item'><div class='xr-array-wrap'><input id='section-f2b6e460-c647-4f21-92d1-a08f15538151' class='xr-array-in' type='checkbox' checked><label for='section-f2b6e460-c647-4f21-92d1-a08f15538151' title='Show/hide data repr'><svg class='icon xr-icon-database'><use xlink:href='#icon-database'></use></svg></label><div class='xr-array-preview xr-preview'><span>217</span></div><div class='xr-array-data'><pre>array(217)</pre></div></div></li><li class='xr-section-item'><input id='section-99ab5cfb-540a-4410-8366-e6510b4d79e0' class='xr-section-summary-in' type='checkbox'  checked><label for='section-99ab5cfb-540a-4410-8366-e6510b4d79e0' class='xr-section-summary' >Coordinates: <span>(1)</span></label><div class='xr-section-inline-details'></div><div class='xr-section-details'><ul class='xr-var-list'><li class='xr-var-item'><div class='xr-var-name'><span>plev</span></div><div class='xr-var-dims'>()</div><div class='xr-var-dtype'>float64</div><div class='xr-var-preview xr-preview'>5e+04</div><input id='attrs-f6cab13c-61a2-4416-965e-b0f4d19299df' class='xr-var-attrs-in' type='checkbox' ><label for='attrs-f6cab13c-61a2-4416-965e-b0f4d19299df' title='Show/Hide attributes'><svg class='icon xr-icon-file-text2'><use xlink:href='#icon-file-text2'></use></svg></label><input id='data-7fbf928d-ac46-4f4f-87b9-8049d3914661' class='xr-var-data-in' type='checkbox'><label for='data-7fbf928d-ac46-4f4f-87b9-8049d3914661' title='Show/Hide data repr'><svg class='icon xr-icon-database'><use xlink:href='#icon-database'></use></svg></label><div class='xr-var-attrs'><dl class='xr-attrs'><dt><span>standard_name :</span></dt><dd>air_pressure</dd><dt><span>long_name :</span></dt><dd>pressure</dd><dt><span>units :</span></dt><dd>Pa</dd><dt><span>positive :</span></dt><dd>down</dd><dt><span>axis :</span></dt><dd>Z</dd></dl></div><div class='xr-var-data'><pre>array(50000.)</pre></div></li></ul></div></li><li class='xr-section-item'><input id='section-00d4bf90-1e40-4114-8c73-8064067893cb' class='xr-section-summary-in' type='checkbox' disabled ><label for='section-00d4bf90-1e40-4114-8c73-8064067893cb' class='xr-section-summary'  title='Expand/collapse section'>Attributes: <span>(0)</span></label><div class='xr-section-inline-details'></div><div class='xr-section-details'><dl class='xr-attrs'></dl></div></li></ul></div></div>"
      ],
      "text/plain": [
       "<xarray.DataArray ()>\n",
       "array(217)\n",
       "Coordinates:\n",
       "    plev     float64 5e+04"
      ]
     },
     "execution_count": 6,
     "metadata": {},
     "output_type": "execute_result"
    }
   ],
   "source": [
    "mask.sum()"
   ]
  },
  {
   "cell_type": "code",
   "execution_count": 7,
   "id": "29827178-9d56-4fa1-8e14-34cca5fc9ce2",
   "metadata": {},
   "outputs": [
    {
     "data": {
      "text/plain": [
       "False"
      ]
     },
     "execution_count": 7,
     "metadata": {},
     "output_type": "execute_result"
    }
   ],
   "source": [
    "NASS_box_lon_lat.contains(Point(-50, 30))"
   ]
  },
  {
   "cell_type": "code",
   "execution_count": 8,
   "id": "de64704e-0397-4ad2-8b33-3ed99f20fe7a",
   "metadata": {},
   "outputs": [
    {
     "data": {
      "text/plain": [
       "[<matplotlib.lines.Line2D at 0x7fbe6fdc56d0>]"
      ]
     },
     "execution_count": 8,
     "metadata": {},
     "output_type": "execute_result"
    },
    {
     "data": {
      "image/png": "[encoded data removed]",
      "text/plain": [
       "<Figure size 432x288 with 1 Axes>"
      ]
     },
     "metadata": {
      "needs_background": "light"
     },
     "output_type": "display_data"
    }
   ],
   "source": [
    "plt.scatter(lon_2d.where(mask), lat_2d.where(mask), s=1, c=\"r\")\n",
    "plt.scatter(lon_2d.where(~mask), lat_2d.where(~mask), s=1, c=\"gray\")\n",
    "plt.plot(*NASS_box_lon_lat.exterior.xy, \"cyan\")"
   ]
  },
  {
   "cell_type": "markdown",
   "id": "8f33549d-0308-402c-9434-4d7a1fdbd46c",
   "metadata": {},
   "source": [
    "### Getting North Atlantic propely selected\n",
    "It might make sense to use the area defined by the IPCC\n",
    "- https://doi.org/10.5194/essd-12-2959-2020\n",
    "- https://github.com/SantanderMetGroup/ATLAS\n",
    "\n",
    "https://github.com/SantanderMetGroup/ATLAS/blob/main/reference-regions/IPCC-WGI-reference-regions-v4_shapefile.zip\n"
   ]
  },
  {
   "cell_type": "code",
   "execution_count": 9,
   "id": "dea8b001-105d-4153-bcd9-d5c08e76d8e0",
   "metadata": {},
   "outputs": [],
   "source": [
    "\"\"\"\n",
    "this all is based on \n",
    "https://gis.stackexchange.com/questions/113799/reading-shapefile-in-python\n",
    "https://gis.stackexchange.com/questions/113799/reading-shapefile-in-python\n",
    "\"\"\"\n",
    "shapefile = gpd.read_file(\"IPCC-WGI-reference-regions-v4.shp\", SHAPE_RESTORE_SHX = \"yes\")\n",
    "NAO_polygon = shapefile[\"geometry\"][50]\n",
    "EAO_polygon = shapefile[\"geometry\"][51]"
   ]
  },
  {
   "cell_type": "code",
   "execution_count": 10,
   "id": "b9e283f1-b5ee-467b-b2e7-3a8a384adf58",
   "metadata": {},
   "outputs": [],
   "source": [
    "mask_NAO = xr.DataArray(\n",
    "    np.reshape(\n",
    "        [\n",
    "            NAO_polygon.contains(Point(_lon, _lat))\n",
    "            for _lon, _lat in zip(np.ravel(lon_2d), np.ravel(lat_2d))\n",
    "        ],\n",
    "        lon_2d.shape,\n",
    "    ),\n",
    "    dims=lon_2d.dims,\n",
    "    coords=lon_2d.coords,\n",
    ")\n",
    "mask_EAO = xr.DataArray(\n",
    "    np.reshape(\n",
    "        [\n",
    "            EAO_polygon.contains(Point(_lon, _lat))\n",
    "            for _lon, _lat in zip(np.ravel(lon_2d), np.ravel(lat_2d))\n",
    "        ],\n",
    "        lon_2d.shape,\n",
    "    ),\n",
    "    dims=lon_2d.dims,\n",
    "    coords=lon_2d.coords,\n",
    ")\n",
    "\n",
    "mask_Atlantik = (mask_EAO | mask_NAO) & spatial_mask(\n",
    "    sst_mean,\n",
    "    lat_north = 70,\n",
    "    lat_south = 0,\n",
    "    lon_west = -90,\n",
    "    lon_east = 15)\n",
    "\n",
    "prime_meridian = LineString([(0,90), (0,-90)])"
   ]
  },
  {
   "cell_type": "code",
   "execution_count": 11,
   "id": "46caff7f-6b7c-4248-a892-2ef2a9bb1430",
   "metadata": {},
   "outputs": [
    {
     "data": {
      "text/plain": [
       "[<matplotlib.lines.Line2D at 0x7fbe679b7700>]"
      ]
     },
     "execution_count": 11,
     "metadata": {},
     "output_type": "execute_result"
    },
    {
     "data": {
      "image/png": "[encoded data removed]",
      "text/plain": [
       "<Figure size 432x288 with 1 Axes>"
      ]
     },
     "metadata": {
      "needs_background": "light"
     },
     "output_type": "display_data"
    }
   ],
   "source": [
    "plt.scatter(lon_2d, lat_2d, s=1, c=\"gray\")\n",
    "plt.scatter(lon_2d.where(mask_NAO), lat_2d.where(mask_NAO), s=1, c=\"r\")\n",
    "plt.plot(*NAO_polygon.exterior.xy, \"cyan\")\n",
    "plt.scatter(lon_2d.where(mask_EAO), lat_2d.where(mask_EAO), s=1, c=\"b\")\n",
    "plt.plot(*EAO_polygon.exterior.xy, \"cyan\")\n",
    "plt.scatter(lon_2d.where(mask_Atlantik), lat_2d.where(mask_Atlantik), s=1, c=\"w\")\n",
    "plt.plot(*prime_meridian.xy, \"yellow\")\n"
   ]
  },
  {
   "cell_type": "code",
   "execution_count": 12,
   "id": "2d536aef-98bd-4d0e-aa95-9412e014f5d4",
   "metadata": {},
   "outputs": [
    {
     "data": {
      "text/plain": [
       "[<matplotlib.lines.Line2D at 0x7fbe677ba7f0>]"
      ]
     },
     "execution_count": 12,
     "metadata": {},
     "output_type": "execute_result"
    },
    {
     "data": {
      "image/png": "[encoded data removed]",
      "text/plain": [
       "<Figure size 432x288 with 1 Axes>"
      ]
     },
     "metadata": {
      "needs_background": "light"
     },
     "output_type": "display_data"
    }
   ],
   "source": [
    "plt.plot(*EAO_polygon.exterior.xy, \"cyan\")"
   ]
  },
  {
   "cell_type": "markdown",
   "id": "a27821bd-31e2-446e-8e35-295b675eaad3",
   "metadata": {},
   "source": [
    "### Lets try to split these polygons"
   ]
  },
  {
   "cell_type": "code",
   "execution_count": 13,
   "id": "da38e6ea-f5ba-4988-9c23-58383815275f",
   "metadata": {},
   "outputs": [],
   "source": [
    "lon_2d_360, lat_2d_360 = xr.broadcast(ds_FOCI.coords[\"lon\"], ds_FOCI.coords[\"lat\"])\n",
    "\n",
    "splitted_EAO_polgon = split(EAO_polygon, prime_meridian)\n",
    "EAO_west = translate(splitted_EAO_polgon.geoms[0], xoff=360)\n",
    "EAO_east = splitted_EAO_polgon.geoms[1]\n",
    "\n",
    "mask_EAO_split = xr.DataArray(\n",
    "    np.reshape(\n",
    "        [\n",
    "            EAO_west.contains(Point(_lon, _lat)) |\n",
    "            EAO_east.contains(Point(_lon, _lat)) \n",
    "            for _lon, _lat in zip(np.ravel(lon_2d_360), np.ravel(lat_2d_360))\n",
    "        ],\n",
    "        lon_2d_360.shape,\n",
    "    ),\n",
    "    dims=lon_2d_360.dims,\n",
    "    coords=lon_2d_360.coords,\n",
    ")"
   ]
  },
  {
   "cell_type": "code",
   "execution_count": 14,
   "id": "e9976271-0e60-4ba2-85c5-0539e0fddb14",
   "metadata": {},
   "outputs": [
    {
     "data": {
      "text/plain": [
       "2"
      ]
     },
     "execution_count": 14,
     "metadata": {},
     "output_type": "execute_result"
    }
   ],
   "source": [
    "len(splitted_EAO_polgon.geoms)"
   ]
  },
  {
   "cell_type": "code",
   "execution_count": 15,
   "id": "549cfc77-0ce1-4db0-a238-776e134160a4",
   "metadata": {},
   "outputs": [
    {
     "data": {
      "text/plain": [
       "[<matplotlib.lines.Line2D at 0x7fbe676233d0>]"
      ]
     },
     "execution_count": 15,
     "metadata": {},
     "output_type": "execute_result"
    },
    {
     "data": {
      "image/png": "[encoded data removed]",
      "text/plain": [
       "<Figure size 432x288 with 1 Axes>"
      ]
     },
     "metadata": {
      "needs_background": "light"
     },
     "output_type": "display_data"
    },
    {
     "data": {
      "image/png": "[encoded data removed]",
      "text/plain": [
       "<Figure size 432x288 with 1 Axes>"
      ]
     },
     "metadata": {
      "needs_background": "light"
     },
     "output_type": "display_data"
    }
   ],
   "source": [
    "\n",
    "plt.scatter(lon_2d, lat_2d, s=1, c=\"gray\")\n",
    "plt.scatter(lon_2d.where(mask_EAO), lat_2d.where(mask_EAO), s=1, c=\"b\")\n",
    "plt.plot(*EAO_polygon.exterior.xy, \"cyan\")\n",
    "plt.plot(*prime_meridian.xy, \"yellow\")\n",
    "plt.figure()\n",
    "plt.scatter(lon_2d + 180, lat_2d, s=1, c=\"gray\")\n",
    "plt.plot(*EAO_west.exterior.xy, \"magenta\")\n",
    "plt.plot(*EAO_east.exterior.xy, \"magenta\")\n",
    "plt.scatter(lon_2d_360.where(mask_EAO_split), lat_2d_360.where(mask_EAO_split), s=1, c=\"r\")\n",
    "plt.plot(*prime_meridian.xy, \"yellow\")\n"
   ]
  },
  {
   "cell_type": "markdown",
   "id": "34c904cd-1a9c-4670-a825-f16662ac1170",
   "metadata": {},
   "source": [
    "## Using unary_union to make things easier in the mask creation"
   ]
  },
  {
   "cell_type": "code",
   "execution_count": 16,
   "id": "f2676be0-970e-4373-9b87-d257a86cf938",
   "metadata": {},
   "outputs": [
    {
     "name": "stdout",
     "output_type": "stream",
     "text": [
      "<class 'shapely.geometry.multipolygon.MultiPolygon'>\n"
     ]
    },
    {
     "data": {
      "text/plain": [
       "<matplotlib.collections.QuadMesh at 0x7fbe675c40d0>"
      ]
     },
     "execution_count": 16,
     "metadata": {},
     "output_type": "execute_result"
    },
    {
     "data": {
      "image/png": "[encoded data removed]",
      "text/plain": [
       "<Figure size 432x288 with 2 Axes>"
      ]
     },
     "metadata": {
      "needs_background": "light"
     },
     "output_type": "display_data"
    }
   ],
   "source": [
    "EAO_split = unary_union([EAO_east, EAO_west])\n",
    "print(type(EAO_split))\n",
    "mask_EAO_split_union = xr.DataArray(\n",
    "    np.reshape(\n",
    "        [\n",
    "            EAO_split.contains(Point(_lon, _lat))\n",
    "            for _lon, _lat in zip(np.ravel(lon_2d_360), np.ravel(lat_2d_360))\n",
    "        ],\n",
    "        lon_2d_360.shape,\n",
    "    ),\n",
    "    dims=lon_2d_360.dims,\n",
    "    coords=lon_2d_360.coords,\n",
    ")\n",
    "mask_EAO_split_union.plot()"
   ]
  },
  {
   "cell_type": "code",
   "execution_count": 17,
   "id": "a67c1f00-f0db-48b1-8b9e-418478529047",
   "metadata": {},
   "outputs": [
    {
     "data": {
      "text/plain": [
       "[<matplotlib.lines.Line2D at 0x7fbe67463490>]"
      ]
     },
     "execution_count": 17,
     "metadata": {},
     "output_type": "execute_result"
    },
    {
     "data": {
      "image/png": "[encoded data removed]",
      "text/plain": [
       "<Figure size 432x288 with 1 Axes>"
      ]
     },
     "metadata": {
      "needs_background": "light"
     },
     "output_type": "display_data"
    },
    {
     "data": {
      "image/png": "[encoded data removed]",
      "text/plain": [
       "<Figure size 432x288 with 1 Axes>"
      ]
     },
     "metadata": {
      "needs_background": "light"
     },
     "output_type": "display_data"
    }
   ],
   "source": [
    "plt.scatter(lon_2d_360, lat_2d_360, s=1, c=\"gray\")\n",
    "plt.plot(*EAO_west.exterior.xy, \"magenta\")\n",
    "plt.plot(*EAO_east.exterior.xy, \"magenta\")\n",
    "plt.scatter(lon_2d_360.where(mask_EAO_split), lat_2d_360.where(mask_EAO_split), s=1, c=\"r\")\n",
    "plt.plot(*prime_meridian.xy, \"yellow\")\n",
    "\n",
    "plt.figure()\n",
    "plt.scatter(lon_2d_360, lat_2d_360, s=1, c=\"gray\")\n",
    "# plt.plot(*EAO_split.exterior.xy, \"magenta\")\n",
    "plt.scatter(lon_2d_360.where(mask_EAO_split_union), lat_2d_360.where(mask_EAO_split_union), s=1, c=\"r\")\n",
    "plt.plot(*prime_meridian.xy, \"yellow\")\n"
   ]
  },
  {
   "cell_type": "markdown",
   "id": "17e54f76-3dcd-488e-8813-d75c6e805970",
   "metadata": {},
   "source": [
    "### Two functions should be enough to support this:"
   ]
  },
  {
   "cell_type": "code",
   "execution_count": 37,
   "id": "fe6e8600-68bd-4050-af46-1df4922a62df",
   "metadata": {},
   "outputs": [],
   "source": [
    "def polygon2mask(dobj, pg, lon_name=\"lon\", lat_name=\"lat\") :\n",
    "    \"\"\"\n",
    "    This funciton creates a mask for a given DataArray or DataSet based on the Polygon or Multipolygon.\n",
    "    Polygon points are expected be (lon, lat) tuples.\n",
    "    \n",
    "    Parameters\n",
    "    ----------\n",
    "    dobj: xarray.Dataset or xarray.DataArray\n",
    "        Contains the original data.\n",
    "    pg: shaply Polygon or shapely MultiPolygon\n",
    "        Polygon including the area wanted.\n",
    "\n",
    "    Returns\n",
    "    -------\n",
    "    xarray.Dataset or xarray.DataArray\n",
    "        Mask for given Polygon on dobj grid.\n",
    "    \"\"\"\n",
    "    \n",
    "    lon_2d, lat_2d = xr.broadcast(dobj.coords[lon_name], dobj.coords[lat_name])\n",
    "\n",
    "    mask = xr.DataArray(\n",
    "        np.reshape(\n",
    "                [\n",
    "                    pg.contains(Point(_lon, _lat))\n",
    "                    for _lon, _lat in zip(np.ravel(lon_2d), np.ravel(lat_2d))\n",
    "                ],\n",
    "                lon_2d.shape,\n",
    "            ),\n",
    "            dims=lon_2d.dims,\n",
    "            coords=lon_2d.coords,\n",
    "        )\n",
    "    # transpose to have lon on x and lat on y axes\n",
    "    mask = mask.transpose()\n",
    "    return mask\n",
    "\n",
    "    \n",
    "def polygon_prime_meridian(pg) :\n",
    "    \"\"\"\n",
    "    Transforms polygons defined in [-180W, 180E) coords into [0E,360E) coords.\n",
    "    Handles polygons crossing the prime meridan.\n",
    "    Polygon points are expected be (lon, lat) tuples.\n",
    "    \n",
    "    Parameters\n",
    "    ----------\n",
    "    pg: shaply Polygon or shapely MultiPolygon\n",
    "        Polygon including the area wanted.\n",
    "\n",
    "    Returns\n",
    "    -------\n",
    "    shapely MultPolygon\n",
    "        shaply MultiPolygon with single.\n",
    "    \"\"\"\n",
    "    \n",
    "    # create prime_meridian to eventually split the polygon\n",
    "    prime_meridian = LineString([(0,90), (0,-90)])\n",
    "    pg_split = split(pg, prime_meridian)\n",
    "    pg_list = []\n",
    "    for temp_pg in pg_split.geoms :\n",
    "        # check if the poygon minx is less than 0\n",
    "        if temp_pg.bounds[0] < 0:\n",
    "            temp_pg = translate(temp_pg, xoff=360)\n",
    "        pg_list += [temp_pg]\n",
    "    # create the multipolygon existing in [0E, 360E) coords\n",
    "    multi_pg = unary_union(pg_list)\n",
    "    return multi_pg"
   ]
  },
  {
   "cell_type": "markdown",
   "id": "c700be19-3c22-405a-8833-936f61ca0bd9",
   "metadata": {},
   "source": [
    "### The procedure is as follows:\n",
    "1. Using multiple polygons from shapely and the differenct set theories to create a multiploygon.\n",
    "2. Pass the multipolygon to polygon_prime_meridian to change coordiante system\n",
    "3. pass the result from 2. to polygon2mask to create the mask corresponding to the lon, lat grid. "
   ]
  },
  {
   "cell_type": "code",
   "execution_count": 47,
   "id": "b8145625-9a94-4df0-8a9d-986a842f64a8",
   "metadata": {},
   "outputs": [],
   "source": [
    "#1. \n",
    "atlantic_big = Polygon([(-90,0), (-90, 70), (20,70), (20, 0)])\n",
    "pg = unary_union([NAO_polygon, EAO_polygon])\n",
    "pg = pg.intersection(atlantic_big)\n",
    "#2. \n",
    "atlantic_pg = polygon_prime_meridian(pg)\n",
    "#3. \n",
    "atlantic_mask = polygon2mask(sst_mean, atlantic_pg)"
   ]
  },
  {
   "cell_type": "code",
   "execution_count": 48,
   "id": "e2cf0073-6b79-45eb-acfe-4397886bf111",
   "metadata": {},
   "outputs": [
    {
     "data": {
      "image/png": "[encoded data removed]",
      "text/plain": [
       "<Figure size 432x288 with 2 Axes>"
      ]
     },
     "metadata": {
      "needs_background": "light"
     },
     "output_type": "display_data"
    }
   ],
   "source": [
    "fig, ax = plt.subplots(nrows = 1, ncols = 1)\n",
    "sst_mean.plot(ax = ax, cmap = \"gray\")\n",
    "sst_mean.where(atlantic_mask).plot(ax = ax, add_colorbar=False)\n",
    "\n",
    "for temp_pg in polygon_prime_meridian(atlantic_big).geoms :\n",
    "    ax.plot(*temp_pg.exterior.xy, color = \"magenta\")\n",
    "for temp_pg in polygon_prime_meridian(atlantic_pg).geoms :\n",
    "    ax.plot(*temp_pg.exterior.xy, color = \"cyan\")\n",
    "    "
   ]
  },
  {
   "cell_type": "code",
   "execution_count": 45,
   "id": "93d89789-3ae3-47a3-b572-37899a518f6f",
   "metadata": {},
   "outputs": [
    {
     "data": {
      "image/png": "[encoded data removed]",
      "text/plain": [
       "<Figure size 432x288 with 1 Axes>"
      ]
     },
     "metadata": {
      "needs_background": "light"
     },
     "output_type": "display_data"
    },
    {
     "data": {
      "image/png": "[encoded data removed]",
      "text/plain": [
       "<Figure size 432x288 with 2 Axes>"
      ]
     },
     "metadata": {
      "needs_background": "light"
     },
     "output_type": "display_data"
    }
   ],
   "source": [
    "weird_polygon = Polygon([(-90,0), (-90, 70), (20,70), (195, 20), (270, -60), (20, 0)])\n",
    "\n",
    "plt.plot(*weird_polygon.exterior.xy)\n",
    "weird_mask = polygon2mask(sst_mean, polygon_prime_meridian(weird_polygon))\n",
    "\n",
    "fig, ax = plt.subplots(nrows = 1, ncols = 1)\n",
    "sst_mean.plot(ax = ax, cmap = \"gray\")\n",
    "sst_mean.where(weird_mask).plot(ax = ax, add_colorbar=False)\n",
    "\n",
    "for temp_pg in polygon_prime_meridian(weird_polygon).geoms :\n",
    "    ax.plot(*temp_pg.exterior.xy, color = \"cyan\")\n",
    "    "
   ]
  },
  {
   "cell_type": "code",
   "execution_count": null,
   "id": "f7e86501-2e62-4a0d-b874-dd2e0e9dccf8",
   "metadata": {},
   "outputs": [],
   "source": []
  }
 ],
 "metadata": {
  "kernelspec": {
   "display_name": "Python 3 (ipykernel)",
   "language": "python",
   "name": "python3"
  },
  "language_info": {
   "codemirror_mode": {
    "name": "ipython",
    "version": 3
   },
   "file_extension": ".py",
   "mimetype": "text/x-python",
   "name": "python",
   "nbconvert_exporter": "python",
   "pygments_lexer": "ipython3",
   "version": "3.9.12"
  }
 },
 "nbformat": 4,
 "nbformat_minor": 5
}
