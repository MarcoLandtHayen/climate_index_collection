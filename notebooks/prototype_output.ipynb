{
 "cells": [
  {
   "cell_type": "code",
   "execution_count": 12,
   "id": "51dc9542-fd8c-4b92-b1e9-59d64508e28e",
   "metadata": {},
   "outputs": [],
   "source": [
    "import xarray as xr\n",
    "import pandas as pd\n",
    "\n",
    "from pathlib import Path\n",
    "\n",
    "from climate_index_collection.indices import southern_annular_mode\n",
    "from climate_index_collection.data_loading import load_data_set"
   ]
  },
  {
   "cell_type": "code",
   "execution_count": 6,
   "id": "19e330cf-c7bc-4d64-aa79-4fe0a80eeb95",
   "metadata": {},
   "outputs": [],
   "source": [
    "def index_to_dataframe(data_path=\"../data/test_data/\", data_source_name=\"FOCI\", index_function=southern_annular_mode):\n",
    "    \"\"\"Compute index from data source and convert xarray data array to Pandas dataframe.\n",
    "    \n",
    "    Parameters\n",
    "    ----------\n",
    "    data_path: str | path\n",
    "        Location of the data files. Defaults to \"data/test_data/\".\n",
    "    data_source_name: str\n",
    "        Name of the model dataset. Defaults to \"FOCI\".\n",
    "    index_function: function\n",
    "        Index function. Defaults to southern_annular_mode.\n",
    "        \n",
    "    Returns\n",
    "    -------\n",
    "    Pandas dataframe\n",
    "    \n",
    "    \"\"\"\n",
    "    data_set = load_data_set(data_path=data_path, data_source_name=data_source_name)\n",
    "    index_data_array = index_function(data_set)\n",
    "    index_df = index_data_array.to_dataframe().reset_index()\n",
    "    index_df['model']=data_source_name\n",
    "    index_df['index']=index_data_array.name\n",
    "    index_df.rename(columns={index_data_array.name: \"value\" }, inplace = True)\n",
    "    index_df = index_df.reindex(columns=['time', 'model', 'index', 'value'])\n",
    "    \n",
    "    return index_df"
   ]
  },
  {
   "cell_type": "code",
   "execution_count": 20,
   "id": "2380b93f-b6b8-42ed-a88c-1fb38fec453f",
   "metadata": {},
   "outputs": [],
   "source": [
    "def concat_indices(data_source_names=None, index_functions=None):\n",
    "    \"\"\"Compute indices from sources and concatenate resulting dataframes.\n",
    "    \n",
    "    Parameters\n",
    "    ----------\n",
    "    data_source_names: list of strings\n",
    "        List of model names. Defaults to None.\n",
    "    index_functions: list of strings\n",
    "        List of indices to be computed. Defaults to None.\n",
    "        \n",
    "    Returns\n",
    "    -------\n",
    "    Pandas dataframe in tidy format\n",
    "    \n",
    "    \"\"\"\n",
    "    df_list = [\n",
    "        index_to_dataframe(data_source_name=data_source_name, index_function=index_function)\n",
    "        for data_source_name in data_source_names\n",
    "        for index_function in index_functions\n",
    "    ]\n",
    "\n",
    "    return pd.concat(df_list, axis=0, ignore_index=True)"
   ]
  },
  {
   "cell_type": "code",
   "execution_count": 25,
   "id": "6cbea9ed-27ff-4ccd-98f2-80722a05dc25",
   "metadata": {},
   "outputs": [
    {
     "name": "stderr",
     "output_type": "stream",
     "text": [
      "/srv/conda/envs/notebook/lib/python3.9/site-packages/xarray/coding/times.py:673: SerializationWarning: Unable to decode time axis into full numpy.datetime64 objects, continuing using cftime.datetime objects instead, reason: dates out of range\n",
      "  dtype = _decode_cf_datetime_dtype(data, units, calendar, self.use_cftime)\n",
      "/srv/conda/envs/notebook/lib/python3.9/site-packages/xarray/core/indexing.py:423: SerializationWarning: Unable to decode time axis into full numpy.datetime64 objects, continuing using cftime.datetime objects instead, reason: dates out of range\n",
      "  return np.asarray(array[self.key], dtype=None)\n"
     ]
    }
   ],
   "source": [
    "temp_df = concat_indices(data_source_names=['FOCI', 'CESM'], index_functions=[southern_annular_mode])"
   ]
  },
  {
   "cell_type": "code",
   "execution_count": 26,
   "id": "5dbdb2bd-e55b-4834-8cda-dfdf65188a67",
   "metadata": {},
   "outputs": [],
   "source": [
    "import seaborn"
   ]
  },
  {
   "cell_type": "code",
   "execution_count": 27,
   "id": "37e8df02-1e15-4a42-8762-3ecfdc479a8f",
   "metadata": {},
   "outputs": [
    {
     "data": {
      "text/plain": [
       "<seaborn.axisgrid.FacetGrid at 0x40ab052190>"
      ]
     },
     "execution_count": 27,
     "metadata": {},
     "output_type": "execute_result"
    },
    {
     "data": {
      "image/png": "[encoded data removed]",
      "text/plain": [
       "<Figure size 1000x500 with 2 Axes>"
      ]
     },
     "metadata": {},
     "output_type": "display_data"
    }
   ],
   "source": [
    "seaborn.relplot(data=temp_df, x='time', col='model', y='value', markers='index')"
   ]
  },
  {
   "cell_type": "code",
   "execution_count": 29,
   "id": "3ee399d7-f309-4a0c-a640-cd587d5f9084",
   "metadata": {},
   "outputs": [],
   "source": [
    "# Write csv file\n",
    "temp_df.to_csv('test_output.csv', index=False)"
   ]
  },
  {
   "cell_type": "code",
   "execution_count": 30,
   "id": "6baef102-f58b-4b44-97a1-192c72c160cd",
   "metadata": {},
   "outputs": [
    {
     "name": "stdout",
     "output_type": "stream",
     "text": [
      "time,model,index,value\n",
      "2350-02-28 23:52:00,FOCI,SAM,0.6197199\n",
      "2350-03-31 23:52:00,FOCI,SAM,1.7501345\n",
      "2350-04-30 23:52:00,FOCI,SAM,1.4807087\n",
      "2350-05-31 23:52:00,FOCI,SAM,1.0644104\n",
      "2350-06-30 23:52:00,FOCI,SAM,0.011574998\n",
      "2350-07-31 23:52:00,FOCI,SAM,-0.60080403\n",
      "2350-08-31 23:52:00,FOCI,SAM,-0.2217532\n",
      "2350-09-30 23:52:00,FOCI,SAM,0.97122747\n",
      "2350-10-31 23:52:00,FOCI,SAM,0.26575142\n"
     ]
    }
   ],
   "source": [
    "! head test_output.csv"
   ]
  },
  {
   "cell_type": "code",
   "execution_count": null,
   "id": "d4f3ee85-6e53-4c20-b8de-f4111fa35c75",
   "metadata": {},
   "outputs": [],
   "source": []
  }
 ],
 "metadata": {
  "kernelspec": {
   "display_name": "Python 3 (ipykernel)",
   "language": "python",
   "name": "python3"
  },
  "language_info": {
   "codemirror_mode": {
    "name": "ipython",
    "version": 3
   },
   "file_extension": ".py",
   "mimetype": "text/x-python",
   "name": "python",
   "nbconvert_exporter": "python",
   "pygments_lexer": "ipython3",
   "version": "3.9.12"
  }
 },
 "nbformat": 4,
 "nbformat_minor": 5
}
